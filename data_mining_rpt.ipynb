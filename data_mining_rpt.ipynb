{
  "nbformat": 4,
  "nbformat_minor": 0,
  "metadata": {
    "colab": {
      "name": "data_mining_rpt_group_6.ipynb",
      "provenance": [],
      "collapsed_sections": []
    },
    "kernelspec": {
      "name": "python3",
      "display_name": "Python 3"
    }
  },
  "cells": [
    {
      "cell_type": "code",
      "metadata": {
        "id": "7cf2xGlE1tSq",
        "colab_type": "code",
        "colab": {
          "base_uri": "https://localhost:8080/",
          "height": 1000
        },
        "outputId": "b788c79f-4250-4a1b-fc36-856c2c3768a5"
      },
      "source": [
        "!wget https://raw.githubusercontent.com/core-rope-memory/DataMiningTechniques/master/task1_format_data.py\n",
        "!wget https://raw.githubusercontent.com/core-rope-memory/DataMiningTechniques/master/task3_format_data.py\n",
        "!wget https://raw.githubusercontent.com/core-rope-memory/DataMiningTechniques/master/test_data_sample.txt\n",
        "!wget https://raw.githubusercontent.com/core-rope-memory/DataMiningTechniques/master/test_label_sample.txt\n",
        "!wget https://raw.githubusercontent.com/core-rope-memory/DataMiningTechniques/master/label_training.txt\n",
        "!wget https://raw.githubusercontent.com/core-rope-memory/DataMiningTechniques/master/test_sample.xlsx\n",
        "!wget https://raw.githubusercontent.com/core-rope-memory/DataMiningTechniques/master/testing.txt\n",
        "!wget https://raw.githubusercontent.com/core-rope-memory/DataMiningTechniques/master/training.txt\n",
        "!wget https://raw.githubusercontent.com/core-rope-memory/DataMiningTechniques/master/UsedAutoRELEVATEfirst10000-noLatLong.csv\n",
        "!wget https://raw.githubusercontent.com/core-rope-memory/DataMiningTechniques/master/data_nochanges.csv\n",
        "!wget https://raw.githubusercontent.com/core-rope-memory/DataMiningTechniques/master/q3_results_18.txt\n",
        "!wget https://raw.githubusercontent.com/core-rope-memory/DataMiningTechniques/master/q3_results_23.txt"
      ],
      "execution_count": null,
      "outputs": [
        {
          "output_type": "stream",
          "text": [
            "--2019-12-12 04:49:59--  https://raw.githubusercontent.com/core-rope-memory/DataMiningTechniques/master/task1_format_data.py\n",
            "Resolving raw.githubusercontent.com (raw.githubusercontent.com)... 151.101.0.133, 151.101.64.133, 151.101.128.133, ...\n",
            "Connecting to raw.githubusercontent.com (raw.githubusercontent.com)|151.101.0.133|:443... connected.\n",
            "HTTP request sent, awaiting response... 200 OK\n",
            "Length: 3505 (3.4K) [text/plain]\n",
            "Saving to: ‘task1_format_data.py’\n",
            "\n",
            "\rtask1_format_data.p   0%[                    ]       0  --.-KB/s               \rtask1_format_data.p 100%[===================>]   3.42K  --.-KB/s    in 0s      \n",
            "\n",
            "2019-12-12 04:50:00 (86.9 MB/s) - ‘task1_format_data.py’ saved [3505/3505]\n",
            "\n",
            "--2019-12-12 04:50:00--  https://raw.githubusercontent.com/core-rope-memory/DataMiningTechniques/master/task3_format_data.py\n",
            "Resolving raw.githubusercontent.com (raw.githubusercontent.com)... 151.101.0.133, 151.101.64.133, 151.101.128.133, ...\n",
            "Connecting to raw.githubusercontent.com (raw.githubusercontent.com)|151.101.0.133|:443... connected.\n",
            "HTTP request sent, awaiting response... 200 OK\n",
            "Length: 4529 (4.4K) [text/plain]\n",
            "Saving to: ‘task3_format_data.py’\n",
            "\n",
            "task3_format_data.p 100%[===================>]   4.42K  --.-KB/s    in 0s      \n",
            "\n",
            "2019-12-12 04:50:00 (127 MB/s) - ‘task3_format_data.py’ saved [4529/4529]\n",
            "\n",
            "--2019-12-12 04:50:01--  https://raw.githubusercontent.com/core-rope-memory/DataMiningTechniques/master/test_data_sample.txt\n",
            "Resolving raw.githubusercontent.com (raw.githubusercontent.com)... 151.101.0.133, 151.101.64.133, 151.101.128.133, ...\n",
            "Connecting to raw.githubusercontent.com (raw.githubusercontent.com)|151.101.0.133|:443... connected.\n",
            "HTTP request sent, awaiting response... 200 OK\n",
            "Length: 279749 (273K) [text/plain]\n",
            "Saving to: ‘test_data_sample.txt’\n",
            "\n",
            "test_data_sample.tx 100%[===================>] 273.19K  --.-KB/s    in 0.05s   \n",
            "\n",
            "2019-12-12 04:50:01 (5.45 MB/s) - ‘test_data_sample.txt’ saved [279749/279749]\n",
            "\n",
            "--2019-12-12 04:50:02--  https://raw.githubusercontent.com/core-rope-memory/DataMiningTechniques/master/test_label_sample.txt\n",
            "Resolving raw.githubusercontent.com (raw.githubusercontent.com)... 151.101.0.133, 151.101.64.133, 151.101.128.133, ...\n",
            "Connecting to raw.githubusercontent.com (raw.githubusercontent.com)|151.101.0.133|:443... connected.\n",
            "HTTP request sent, awaiting response... 200 OK\n",
            "Length: 231 [text/plain]\n",
            "Saving to: ‘test_label_sample.txt’\n",
            "\n",
            "test_label_sample.t 100%[===================>]     231  --.-KB/s    in 0s      \n",
            "\n",
            "2019-12-12 04:50:02 (43.7 MB/s) - ‘test_label_sample.txt’ saved [231/231]\n",
            "\n",
            "--2019-12-12 04:50:02--  https://raw.githubusercontent.com/core-rope-memory/DataMiningTechniques/master/label_training.txt\n",
            "Resolving raw.githubusercontent.com (raw.githubusercontent.com)... 151.101.0.133, 151.101.64.133, 151.101.128.133, ...\n",
            "Connecting to raw.githubusercontent.com (raw.githubusercontent.com)|151.101.0.133|:443... connected.\n",
            "HTTP request sent, awaiting response... 200 OK\n",
            "Length: 4339 (4.2K) [text/plain]\n",
            "Saving to: ‘label_training.txt’\n",
            "\n",
            "label_training.txt  100%[===================>]   4.24K  --.-KB/s    in 0s      \n",
            "\n",
            "2019-12-12 04:50:03 (78.0 MB/s) - ‘label_training.txt’ saved [4339/4339]\n",
            "\n",
            "--2019-12-12 04:50:03--  https://raw.githubusercontent.com/core-rope-memory/DataMiningTechniques/master/test_sample.xlsx\n",
            "Resolving raw.githubusercontent.com (raw.githubusercontent.com)... 151.101.0.133, 151.101.64.133, 151.101.128.133, ...\n",
            "Connecting to raw.githubusercontent.com (raw.githubusercontent.com)|151.101.0.133|:443... connected.\n",
            "HTTP request sent, awaiting response... 200 OK\n",
            "Length: 0 [text/plain]\n",
            "Saving to: ‘test_sample.xlsx’\n",
            "\n",
            "test_sample.xlsx        [ <=>                ]       0  --.-KB/s    in 0s      \n",
            "\n",
            "2019-12-12 04:50:04 (0.00 B/s) - ‘test_sample.xlsx’ saved [0/0]\n",
            "\n",
            "--2019-12-12 04:50:05--  https://raw.githubusercontent.com/core-rope-memory/DataMiningTechniques/master/testing.txt\n",
            "Resolving raw.githubusercontent.com (raw.githubusercontent.com)... 151.101.0.133, 151.101.64.133, 151.101.128.133, ...\n",
            "Connecting to raw.githubusercontent.com (raw.githubusercontent.com)|151.101.0.133|:443... connected.\n",
            "HTTP request sent, awaiting response... 200 OK\n",
            "Length: 3308878 (3.2M) [text/plain]\n",
            "Saving to: ‘testing.txt’\n",
            "\n",
            "testing.txt         100%[===================>]   3.16M  --.-KB/s    in 0.09s   \n",
            "\n",
            "2019-12-12 04:50:05 (34.6 MB/s) - ‘testing.txt’ saved [3308878/3308878]\n",
            "\n",
            "--2019-12-12 04:50:06--  https://raw.githubusercontent.com/core-rope-memory/DataMiningTechniques/master/training.txt\n",
            "Resolving raw.githubusercontent.com (raw.githubusercontent.com)... 151.101.0.133, 151.101.64.133, 151.101.128.133, ...\n",
            "Connecting to raw.githubusercontent.com (raw.githubusercontent.com)|151.101.0.133|:443... connected.\n",
            "HTTP request sent, awaiting response... 200 OK\n",
            "Length: 6749551 (6.4M) [text/plain]\n",
            "Saving to: ‘training.txt’\n",
            "\n",
            "training.txt        100%[===================>]   6.44M  --.-KB/s    in 0.1s    \n",
            "\n",
            "2019-12-12 04:50:06 (56.5 MB/s) - ‘training.txt’ saved [6749551/6749551]\n",
            "\n",
            "--2019-12-12 04:50:07--  https://raw.githubusercontent.com/core-rope-memory/DataMiningTechniques/master/UsedAutoRELEVATEfirst10000-noLatLong.csv\n",
            "Resolving raw.githubusercontent.com (raw.githubusercontent.com)... 151.101.0.133, 151.101.64.133, 151.101.128.133, ...\n",
            "Connecting to raw.githubusercontent.com (raw.githubusercontent.com)|151.101.0.133|:443... connected.\n",
            "HTTP request sent, awaiting response... 200 OK\n",
            "Length: 8679965 (8.3M) [text/plain]\n",
            "Saving to: ‘UsedAutoRELEVATEfirst10000-noLatLong.csv’\n",
            "\n",
            "UsedAutoRELEVATEfir 100%[===================>]   8.28M  --.-KB/s    in 0.1s    \n",
            "\n",
            "2019-12-12 04:50:08 (56.9 MB/s) - ‘UsedAutoRELEVATEfirst10000-noLatLong.csv’ saved [8679965/8679965]\n",
            "\n",
            "--2019-12-12 04:50:08--  https://raw.githubusercontent.com/core-rope-memory/DataMiningTechniques/master/data_nochanges.csv\n",
            "Resolving raw.githubusercontent.com (raw.githubusercontent.com)... 151.101.0.133, 151.101.64.133, 151.101.128.133, ...\n",
            "Connecting to raw.githubusercontent.com (raw.githubusercontent.com)|151.101.0.133|:443... connected.\n",
            "HTTP request sent, awaiting response... 200 OK\n",
            "Length: 5840250 (5.6M) [text/plain]\n",
            "Saving to: ‘data_nochanges.csv’\n",
            "\n",
            "data_nochanges.csv  100%[===================>]   5.57M  --.-KB/s    in 0.1s    \n",
            "\n",
            "2019-12-12 04:50:09 (47.6 MB/s) - ‘data_nochanges.csv’ saved [5840250/5840250]\n",
            "\n",
            "--2019-12-12 04:50:09--  https://raw.githubusercontent.com/core-rope-memory/DataMiningTechniques/master/q3_results_18.txt\n",
            "Resolving raw.githubusercontent.com (raw.githubusercontent.com)... 151.101.0.133, 151.101.64.133, 151.101.128.133, ...\n",
            "Connecting to raw.githubusercontent.com (raw.githubusercontent.com)|151.101.0.133|:443... connected.\n",
            "HTTP request sent, awaiting response... 200 OK\n",
            "Length: 18762 (18K) [text/plain]\n",
            "Saving to: ‘q3_results_18.txt’\n",
            "\n",
            "q3_results_18.txt   100%[===================>]  18.32K  --.-KB/s    in 0.01s   \n",
            "\n",
            "2019-12-12 04:50:09 (1.45 MB/s) - ‘q3_results_18.txt’ saved [18762/18762]\n",
            "\n",
            "--2019-12-12 04:50:10--  https://raw.githubusercontent.com/core-rope-memory/DataMiningTechniques/master/q3_results_23.txt\n",
            "Resolving raw.githubusercontent.com (raw.githubusercontent.com)... 151.101.0.133, 151.101.64.133, 151.101.128.133, ...\n",
            "Connecting to raw.githubusercontent.com (raw.githubusercontent.com)|151.101.0.133|:443... connected.\n",
            "HTTP request sent, awaiting response... 200 OK\n",
            "Length: 16221 (16K) [text/plain]\n",
            "Saving to: ‘q3_results_23.txt’\n",
            "\n",
            "q3_results_23.txt   100%[===================>]  15.84K  --.-KB/s    in 0.01s   \n",
            "\n",
            "2019-12-12 04:50:10 (1.29 MB/s) - ‘q3_results_23.txt’ saved [16221/16221]\n",
            "\n"
          ],
          "name": "stdout"
        }
      ]
    },
    {
      "cell_type": "code",
      "metadata": {
        "id": "tuDea7FvCynY",
        "colab_type": "code",
        "colab": {}
      },
      "source": [
        ""
      ],
      "execution_count": null,
      "outputs": []
    },
    {
      "cell_type": "markdown",
      "metadata": {
        "id": "y1jZ8o_sckEM",
        "colab_type": "text"
      },
      "source": [
        "## Task 1: Classification"
      ]
    },
    {
      "cell_type": "code",
      "metadata": {
        "id": "TDX3XGvT2Dkn",
        "colab_type": "code",
        "colab": {
          "base_uri": "https://localhost:8080/",
          "height": 35
        },
        "outputId": "386d2784-30e1-43c6-beba-016c42c55480"
      },
      "source": [
        "#Chris Parks\n",
        "#Variable to toggle whether or not to calculate new data for the\n",
        "#Nearest Neighbor, Artificial Neural Network, and Ensemble Method Classifiers\n",
        "\n",
        "#These classifiers can take a long time to run, so to save time,\n",
        "#set to false to use data calculated from previous trials\n",
        "\n",
        "#Set to true to run the classifiers and generate new output data\n",
        "\n",
        "if 'toggle_calculations' in locals():\n",
        "  toggle_calculations = not toggle_calculations\n",
        "else:\n",
        "  toggle_calculations = False\n",
        "\n",
        "print(\"Toggle for calculating new data is: \" + str(toggle_calculations))"
      ],
      "execution_count": null,
      "outputs": [
        {
          "output_type": "stream",
          "text": [
            "Toggle for calculating new data is: False\n"
          ],
          "name": "stdout"
        }
      ]
    },
    {
      "cell_type": "markdown",
      "metadata": {
        "id": "8HKBFNpBdzPy",
        "colab_type": "text"
      },
      "source": [
        "### Data Preprocessing\n",
        "The classification data is provided as two sets each containing a data text file and a label text file. The first set is used for training the model and the second set is used for testing the model. The data text file is in the long format for repeated measurement data. Data is in long format if each row contains one attribute value for an observation, therefore each observation will have multiple rows. Data is in wide format if each row corresponds to a single observation and each column corresponds to a single attribute value. [1]\n",
        "\n",
        "The classification data text files were first read into a data frame using the Pandas Python library. For each data set, columns that were all nan values were removed as they provided no data. The data was read in so that the data frame would be in the wide format. This is sparse data, meaning observations in the training and testing data have many missing attribute values. Missing values were converted to a value of 0.\n",
        "\n",
        "Because so many of the attributes for both the training data and testing data had no values, the union of the attribute IDs for training data and testing data were taken. Zero filled attribute columns where then added to both the training and testing datasets for attribute IDs that were present in the union but not in the dataset. In this way the minimum number of zero-filled columns were able to be added to both training and testing datasets to get both dataframes to the same shape (a requirement for the classification algorithms)."
      ]
    },
    {
      "cell_type": "code",
      "metadata": {
        "id": "jITUtLnyTz0n",
        "colab_type": "code",
        "colab": {}
      },
      "source": [
        "from sklearn.metrics import accuracy_score\n",
        "from sklearn.tree import DecisionTreeClassifier\n",
        "import numpy as np\n",
        "import matplotlib.pyplot as plt\n",
        "\n",
        "import task1_format_data as fd1\n",
        "\n",
        "# Importing and pre-processing the data into dataframes that are formatted correctly.\n",
        "X_TRAIN_PATH = \"/content/training.txt\"\n",
        "Y_TRAIN_PATH = \"/content/label_training.txt\"\n",
        "\n",
        "X_TEST_PATH = \"/content/test_data_sample.txt\"\n",
        "Y_TEST_PATH = \"/content/test_label_sample.txt\"\n",
        "\n",
        "x_train = fd1.data_txt_to_wide_df(X_TRAIN_PATH)\n",
        "y_train = fd1.label_txt_to_df(Y_TRAIN_PATH)\n",
        "\n",
        "x_test = fd1.data_txt_to_wide_df(X_TEST_PATH)\n",
        "y_test = fd1.label_txt_to_df(Y_TEST_PATH)\n",
        "\n",
        "col_id_union = fd1.get_data_attribute_union(x_train, x_test)\n",
        "\n",
        "x_train = fd1.add_zero_cols_to_df(x_train, col_id_union)\n",
        "x_test = fd1.add_zero_cols_to_df(x_test, col_id_union)"
      ],
      "execution_count": null,
      "outputs": []
    },
    {
      "cell_type": "markdown",
      "metadata": {
        "id": "UFBcuvVcZcGO",
        "colab_type": "text"
      },
      "source": [
        "### Decision Tree Classification\n",
        "In an attempt to find the most accurate classification for the decision tree classifier, multiple trees were created with different parameter values passed in for the most important parameters. These parameters were the maximum depth of the tree, and the maximum number of features to consider when looking for the best node split. By default, the sci-kit learn's decision tree classifier chooses a max depth such that all leaves are pure or until all leaves contain less than the minimum number of samples required to split an internal node, which is another parameter that can be passed by the user (2 by default). [2]\n",
        "\n",
        "The maximum tree depth options that were tested ranged from 2 to 61, and for each of those tree depths the maximum number of features to consider when looking for the best split was set to the number of features in the tree, the square root of the number of features in the tree, or the log base 2 of the number of features in the tree respectively. A decision tree was then created using the training data and training labels, and then a prediction was made using the decision tree and the testing data. Once the prediction gave out an array of labe predictions for the testing data, the accuracy ratio of this prediction was calculated using the actual label array for the testing data."
      ]
    },
    {
      "cell_type": "code",
      "metadata": {
        "id": "XwK0-pIKX_st",
        "colab_type": "code",
        "colab": {}
      },
      "source": [
        "clf = DecisionTreeClassifier()\n",
        "clf = clf.fit(x_train, y_train)\n",
        "depth = clf.get_depth()\n",
        "y_pred = clf.predict(x_test)\n",
        "accuracy = accuracy_score(y_test.values, y_pred)\n",
        "\n",
        "max_depth_accuracy = [[], [], []]\n",
        "\n",
        "max_depth_options = list(range(2, 61))\n",
        "max_features_options = [None, 'sqrt', 'log2']\n",
        "for i, feature in enumerate(max_features_options):\n",
        "    for depth in max_depth_options:\n",
        "        clf = DecisionTreeClassifier(max_depth=depth, max_features=feature)\n",
        "        clf = clf.fit(x_train, y_train)\n",
        "        y_pred = clf.predict(x_test)\n",
        "        accuracy = accuracy_score(y_test.values, y_pred)\n",
        "        max_depth_accuracy[i].append(accuracy)"
      ],
      "execution_count": null,
      "outputs": []
    },
    {
      "cell_type": "markdown",
      "metadata": {
        "id": "AiCYiQyAZisG",
        "colab_type": "text"
      },
      "source": [
        "Plots of the accuracy ratio versus the max depth of the tree used to make  the prediction were created and colorized by the maximum number of features used to calculate the internal node splits. Using the number of features in the tree as the maximum features to split produced the most consistently accurate results. Using the square-root of the features in the tree as the maximum features to split produced the next most accurate results, but there was much more variability in accuracy depending on the depth of the tree. Using the base-2-log of the features in the tree as the maximum features to split was the least accurate method and also had a large amount of variability based on the depth of the tree.\n",
        "\n",
        "Overall the accuracies of the label predictions made by the decision trees was high, usually ranging between 70% and 96% accuracy rates."
      ]
    },
    {
      "cell_type": "code",
      "metadata": {
        "id": "25tuRQr5YE_1",
        "colab_type": "code",
        "colab": {
          "base_uri": "https://localhost:8080/",
          "height": 295
        },
        "outputId": "d2dcc342-6779-44ab-affb-0e69b34e3e30"
      },
      "source": [
        "plt.plot(np.asarray(max_depth_options), np.asarray(max_depth_accuracy[0]), label='none')\n",
        "plt.plot(np.asarray(max_depth_options), np.asarray(max_depth_accuracy[1]), label='sqrt')\n",
        "plt.plot(np.asarray(max_depth_options), np.asarray(max_depth_accuracy[2]), label='log2')\n",
        "plt.xlabel('max depth')\n",
        "plt.ylabel('accuracy')\n",
        "plt.title(\"Desision Tree Max Depth vs. Accuracy\")\n",
        "plt.legend(title='Max Features')\n",
        "plt.show('decision_tree.png')"
      ],
      "execution_count": null,
      "outputs": [
        {
          "output_type": "display_data",
          "data": {
            "image/png": "[encoded data removed]",
            "text/plain": [
              "<Figure size 432x288 with 1 Axes>"
            ]
          },
          "metadata": {
            "tags": []
          }
        }
      ]
    },
    {
      "cell_type": "markdown",
      "metadata": {
        "id": "hz3pXTDKIUGG",
        "colab_type": "text"
      },
      "source": [
        "### Passive Aggressive Classification (Cameron Howard)\n",
        "This is the Passive Aggressive Classifier code. This type of classifier is ill-suited for our assignment, but I chose to try it out to investigate what kind of results it might have. The Passive Aggressive Classifier is typically used on large streams of data. It takes in a section of the stream and uses it to update its classifier, then throws that section out (and cannot retrieve it later). This would be used on a massive stream of data such as all of the post on Facebook going out throughout the day, or all the tweets on Twittter. However, since our project is just a simple classifcation over constant values in a file, this classifcation produces interesting (and not very dependable) results. The accuracy of this method can be seen to range from below 50% to near 100% depending on the run."
      ]
    },
    {
      "cell_type": "code",
      "metadata": {
        "id": "DHvBHgzBIUf0",
        "colab_type": "code",
        "colab": {
          "base_uri": "https://localhost:8080/",
          "height": 557
        },
        "outputId": "91a574e4-90fa-404e-e7ad-43a36294651b"
      },
      "source": [
        "from sklearn.metrics import accuracy_score\n",
        "from sklearn.linear_model import PassiveAggressiveClassifier\n",
        "\n",
        "accuracy_scores = [[], [], []]\n",
        "\n",
        "num_iterations = list(range(10))\n",
        "\n",
        "for _ in num_iterations:\n",
        "    clf = PassiveAggressiveClassifier()\n",
        "    clf = clf.fit(x_train, np.ravel(y_train))\n",
        "    prediction = clf.predict(x_test)\n",
        "    accuracy = accuracy_score(y_test.values, prediction)\n",
        "    accuracy_scores[0].append(accuracy)\n",
        "    print(\"PA (default) Accuracy: \", accuracy)\n",
        "\n",
        "    clf = PassiveAggressiveClassifier(fit_intercept=True)\n",
        "    clf = clf.fit(x_train, np.ravel(y_train))\n",
        "    prediction = clf.predict(x_test)\n",
        "    accuracy = accuracy_score(y_test.values, prediction)\n",
        "    accuracy_scores[1].append(accuracy)\n",
        "    print(\"PA (intercept) Accuracy: \", accuracy)\n",
        "\n",
        "    clf = PassiveAggressiveClassifier(max_iter=5000)\n",
        "    clf = clf.fit(x_train, np.ravel(y_train))\n",
        "    prediction = clf.predict(x_test)\n",
        "    accuracy = accuracy_score(y_test.values, prediction)\n",
        "    accuracy_scores[2].append(accuracy)\n",
        "    print(\"PA (five times iterations) Accuracy: \", accuracy)\n"
      ],
      "execution_count": null,
      "outputs": [
        {
          "output_type": "stream",
          "text": [
            "PA (default) Accuracy:  0.9\n",
            "PA (intercept) Accuracy:  0.84\n",
            "PA (five times iterations) Accuracy:  0.88\n",
            "PA (default) Accuracy:  0.95\n",
            "PA (intercept) Accuracy:  0.92\n",
            "PA (five times iterations) Accuracy:  0.87\n",
            "PA (default) Accuracy:  0.91\n",
            "PA (intercept) Accuracy:  0.94\n",
            "PA (five times iterations) Accuracy:  0.89\n",
            "PA (default) Accuracy:  0.51\n",
            "PA (intercept) Accuracy:  0.93\n",
            "PA (five times iterations) Accuracy:  0.9\n",
            "PA (default) Accuracy:  0.91\n",
            "PA (intercept) Accuracy:  0.9\n",
            "PA (five times iterations) Accuracy:  0.89\n",
            "PA (default) Accuracy:  0.89\n",
            "PA (intercept) Accuracy:  0.75\n",
            "PA (five times iterations) Accuracy:  0.82\n",
            "PA (default) Accuracy:  0.93\n",
            "PA (intercept) Accuracy:  0.9\n",
            "PA (five times iterations) Accuracy:  0.93\n",
            "PA (default) Accuracy:  0.85\n",
            "PA (intercept) Accuracy:  0.86\n",
            "PA (five times iterations) Accuracy:  0.93\n",
            "PA (default) Accuracy:  0.92\n",
            "PA (intercept) Accuracy:  0.72\n",
            "PA (five times iterations) Accuracy:  0.93\n",
            "PA (default) Accuracy:  0.94\n",
            "PA (intercept) Accuracy:  0.87\n",
            "PA (five times iterations) Accuracy:  0.77\n"
          ],
          "name": "stdout"
        }
      ]
    },
    {
      "cell_type": "markdown",
      "metadata": {
        "id": "Rly_dm2nRLQr",
        "colab_type": "text"
      },
      "source": [
        "The plot shows each different parameter's accuracy as they ran a number of iterations over the same data. Sometimes drops can be seen as low as 49%. Although each iteration over the data is inconsistent, some of the classifications are close to 100% accuracy. However, the varying results make this a classifier to be avoided for the means of our project."
      ]
    },
    {
      "cell_type": "code",
      "metadata": {
        "id": "1LDetvM-RL85",
        "colab_type": "code",
        "colab": {
          "base_uri": "https://localhost:8080/",
          "height": 295
        },
        "outputId": "1d693682-691d-428c-af60-98a39015d887"
      },
      "source": [
        "plt.plot(np.asarray(num_iterations), np.asarray(accuracy_scores[0]), label='default')\n",
        "plt.plot(np.asarray(num_iterations), np.asarray(accuracy_scores[1]), label='intercept')\n",
        "plt.plot(np.asarray(num_iterations), np.asarray(accuracy_scores[2]), label='5x iterations')\n",
        "plt.xlabel('Number of Iterations')\n",
        "plt.ylabel('Accuracy')\n",
        "plt.title(\"Passive Aggressive Classification\")\n",
        "plt.legend(title='Parameters')\n",
        "plt.show()"
      ],
      "execution_count": null,
      "outputs": [
        {
          "output_type": "display_data",
          "data": {
            "image/png": "[encoded data removed]",
            "text/plain": [
              "<Figure size 432x288 with 1 Axes>"
            ]
          },
          "metadata": {
            "tags": []
          }
        }
      ]
    },
    {
      "cell_type": "markdown",
      "metadata": {
        "id": "9kZKaJJNAl_m",
        "colab_type": "text"
      },
      "source": [
        "### Naive Bayes Classification (Cameron Howard)\n",
        "This is the Naive Bayes code. It uses the format data to get the dataframes setup for the fit function. In this case I had to use the np.ravel() function as an extra step to match the dimensions for the fit parameter. As the testing parameters I used four different algorithms:\n",
        "\n",
        "Gaussian: Assumes the likelihood of the features is Gaussian.\n",
        "\n",
        "Multinomial: Used for multinomially distibuted data, usually used text classification.\n",
        "\n",
        "Complement: Derived from Multinomial, meant for imbalanced data sets. Also usually used for text classification.\n",
        "\n",
        "Bernoulli: Used on data that follows Bernoulli distributions. \n",
        "\n",
        "None of the Naive Bayes algorithms are particularly suited to this data set's limited classification. However, they all perform relatively well ranging from 96% - 98% accuracy. "
      ]
    },
    {
      "cell_type": "code",
      "metadata": {
        "id": "yVhDREyKAmso",
        "colab_type": "code",
        "colab": {
          "base_uri": "https://localhost:8080/",
          "height": 89
        },
        "outputId": "b3bebf10-0ed3-429b-8607-4436d4740384"
      },
      "source": [
        "from sklearn.metrics import accuracy_score\n",
        "import sklearn.naive_bayes as nb\n",
        "\n",
        "accuracy_scores = []\n",
        "\n",
        "clf = nb.GaussianNB()\n",
        "clf = clf.fit(x_train, np.ravel(y_train))\n",
        "prediction = clf.predict(x_test)\n",
        "accuracy = accuracy_score(y_test.values, prediction)\n",
        "accuracy_scores.append(accuracy)\n",
        "print(\"Gaussian Naive Bayes Accuracy: \", accuracy)\n",
        "\n",
        "clf = nb.MultinomialNB()\n",
        "clf = clf.fit(x_train, np.ravel(y_train))\n",
        "prediction = clf.predict(x_test)\n",
        "accuracy = accuracy_score(y_test.values, prediction)\n",
        "accuracy_scores.append(accuracy)\n",
        "print(\"Multinomial Naive Bayes Accuracy: \", accuracy)\n",
        "\n",
        "clf = nb.ComplementNB()\n",
        "clf = clf.fit(x_train, np.ravel(y_train))\n",
        "prediction = clf.predict(x_test)\n",
        "accuracy = accuracy_score(y_test.values, prediction)\n",
        "accuracy_scores.append(accuracy)\n",
        "print(\"Complement Naive Bayes Accuracy: \", accuracy)\n",
        "\n",
        "clf = nb.BernoulliNB()\n",
        "clf = clf.fit(x_train, np.ravel(y_train))\n",
        "prediction = clf.predict(x_test)\n",
        "accuracy = accuracy_score(y_test.values, prediction)\n",
        "accuracy_scores.append(accuracy)\n",
        "print(\"Bernoulli Naive Bayes Accuracy: \", accuracy)\n"
      ],
      "execution_count": null,
      "outputs": [
        {
          "output_type": "stream",
          "text": [
            "Gaussian Naive Bayes Accuracy:  0.98\n",
            "Multinomial Naive Bayes Accuracy:  0.95\n",
            "Complement Naive Bayes Accuracy:  0.95\n",
            "Bernoulli Naive Bayes Accuracy:  0.98\n"
          ],
          "name": "stdout"
        }
      ]
    },
    {
      "cell_type": "markdown",
      "metadata": {
        "id": "t3BxjbtnHvbn",
        "colab_type": "text"
      },
      "source": [
        "The plot is a horizontal bar graph with each of the classifiers on the y-axis and the accuracy on the x-axis. They all performed well, but none of them hit 100%."
      ]
    },
    {
      "cell_type": "code",
      "metadata": {
        "id": "NvqlnfXqHv5j",
        "colab_type": "code",
        "colab": {
          "base_uri": "https://localhost:8080/",
          "height": 295
        },
        "outputId": "b2861342-25b9-4f8b-8181-f31678e353f5"
      },
      "source": [
        "bars = ('Gaussian', 'Multinomial', 'Complement', 'Bernoulli')\n",
        "y_pos = np.arange(len(bars))\n",
        "\n",
        "plt.barh(y_pos, accuracy_scores, align='center')\n",
        "plt.yticks(y_pos, bars)\n",
        "plt.xlabel('Accuracy')\n",
        "plt.title('Naive Bayes')\n",
        "\n",
        "plt.show()"
      ],
      "execution_count": null,
      "outputs": [
        {
          "output_type": "display_data",
          "data": {
            "image/png": "[encoded data removed]",
            "text/plain": [
              "<Figure size 432x288 with 1 Axes>"
            ]
          },
          "metadata": {
            "tags": []
          }
        }
      ]
    },
    {
      "cell_type": "markdown",
      "metadata": {
        "id": "Z5VZkOgv4881",
        "colab_type": "text"
      },
      "source": [
        "### Support Vector Machine (Cameron Howard)\n",
        "This is the Support Vector Machine (SVM) code. It uses the format data to get the dataframes setup for the fit function. In this case I had to use the np.ravel() function as an extra step to match the dimensions for the fit parameter. The loop tests different kernel options (which are just the algorithms that the SVM is using to determine its classifications) with different gamma options (which are just kernel coeffiecients [Auto = (1/n) and Scale = (1/(n*variance of x))]. The kernels used are rbf (radial basis function [this is the deafult option]), polynomial, sigmoid, and linear. Linear gets tested after the loop to avoid using unnecessary processing time on parameters it would just ignore. Polynomial gets tested using differing degrees (1-4)."
      ]
    },
    {
      "cell_type": "code",
      "metadata": {
        "id": "DoKqwQew32f6",
        "colab_type": "code",
        "colab": {
          "base_uri": "https://localhost:8080/",
          "height": 251
        },
        "outputId": "c4fa653b-bd9d-427b-908a-efdc9622b404"
      },
      "source": [
        "from sklearn.metrics import accuracy_score\n",
        "from sklearn.svm import SVC\n",
        "\n",
        "accuracy_scores = []\n",
        "kernel_opts = ['rbf', 'poly', 'sigmoid']  # cases\n",
        "gamma_opts = ['auto', 'scale']            # used by all 3 cases\n",
        "degree_opts = list(range(1, 5))           # poly, ignored by others\n",
        "\n",
        "for k in kernel_opts:\n",
        "    for g in gamma_opts:\n",
        "        if k == 'poly':\n",
        "            for d in degree_opts:\n",
        "                clf = SVC(kernel=k, gamma=g, degree=d)\n",
        "                clf = clf.fit(x_train, np.ravel(y_train))\n",
        "                prediction = clf.predict(x_test)\n",
        "                accuracy = accuracy_score(y_test.values, prediction)\n",
        "                accuracy_scores.append(accuracy)\n",
        "                print(\"Kernel: \", k, \"; Gamma: \", g, \"; Degree: \", d, \"; Accuracy: \", accuracy)\n",
        "        else:\n",
        "            clf = SVC(kernel=k, gamma=g)\n",
        "            clf = clf.fit(x_train, np.ravel(y_train))\n",
        "            prediction = clf.predict(x_test)\n",
        "            accuracy = accuracy_score(y_test.values, prediction)\n",
        "            accuracy_scores.append(accuracy)\n",
        "            print(\"Kernel: \", k, \"; Gamma: \", g, \"; Accuracy: \", accuracy)\n",
        "\n",
        "clf = SVC(kernel='linear')\n",
        "clf = clf.fit(x_train, np.ravel(y_train))\n",
        "prediction = clf.predict(x_test)\n",
        "accuracy = accuracy_score(y_test.values, prediction)\n",
        "accuracy_scores.append(accuracy)\n",
        "print(\"Kernel: \", \"linear\", \"; Gamma: \", \"Auto\", \"; Accuracy: \", accuracy)"
      ],
      "execution_count": null,
      "outputs": [
        {
          "output_type": "stream",
          "text": [
            "Kernel:  rbf ; Gamma:  auto ; Accuracy:  0.69\n",
            "Kernel:  rbf ; Gamma:  scale ; Accuracy:  0.7\n",
            "Kernel:  poly ; Gamma:  auto ; Degree:  1 ; Accuracy:  0.72\n",
            "Kernel:  poly ; Gamma:  auto ; Degree:  2 ; Accuracy:  0.8\n",
            "Kernel:  poly ; Gamma:  auto ; Degree:  3 ; Accuracy:  0.73\n",
            "Kernel:  poly ; Gamma:  auto ; Degree:  4 ; Accuracy:  0.69\n",
            "Kernel:  poly ; Gamma:  scale ; Degree:  1 ; Accuracy:  0.7\n",
            "Kernel:  poly ; Gamma:  scale ; Degree:  2 ; Accuracy:  0.7\n",
            "Kernel:  poly ; Gamma:  scale ; Degree:  3 ; Accuracy:  0.7\n",
            "Kernel:  poly ; Gamma:  scale ; Degree:  4 ; Accuracy:  0.7\n",
            "Kernel:  sigmoid ; Gamma:  auto ; Accuracy:  0.69\n",
            "Kernel:  sigmoid ; Gamma:  scale ; Accuracy:  0.7\n",
            "Kernel:  linear ; Gamma:  Auto ; Accuracy:  1.0\n"
          ],
          "name": "stdout"
        }
      ]
    },
    {
      "cell_type": "markdown",
      "metadata": {
        "id": "_v1K9wNS_9CL",
        "colab_type": "text"
      },
      "source": [
        "It compiles the results into a horizontal bar graph that shows accuracy on the x-axis and each tested kernel with its parameters on the y. Linear was by far the best result with 100% accuracy. The rest hovered around 70% while polynomial of degree 2 with auto gamma got to 80% There are currently commented out print statements that show the accuracy of each run, but these can be added back in if you want to see the printed results as well as the graph on your screen."
      ]
    },
    {
      "cell_type": "code",
      "metadata": {
        "id": "ZpYZ7wfc_8lK",
        "colab_type": "code",
        "colab": {
          "base_uri": "https://localhost:8080/",
          "height": 295
        },
        "outputId": "affb14d8-b55e-4692-b973-be8f99af7bc0"
      },
      "source": [
        "bars = ('RBF(Auto)', 'RBF(Scale)', 'Poly(Auto)[1]', 'Poly(Auto)[2]', 'Poly(Auto)[3]', 'Poly(Auto)[4]',\n",
        "        'Poly(Scale)[1]', 'Poly(Scale)[2]', 'Poly(Scale)[3]', 'Poly(Scale)[4]', 'Sigmoid(Auto)', 'Sigmoid(Scale)',\n",
        "        'Linear')\n",
        "y_pos = np.arange(len(bars))\n",
        "\n",
        "plt.barh(y_pos, accuracy_scores, align='center')\n",
        "plt.yticks(y_pos, bars)\n",
        "plt.xlabel('Accuracy')\n",
        "plt.title('Support Vector Machine')\n",
        "\n",
        "plt.show()\n"
      ],
      "execution_count": null,
      "outputs": [
        {
          "output_type": "display_data",
          "data": {
            "image/png": "[encoded data removed]",
            "text/plain": [
              "<Figure size 432x288 with 1 Axes>"
            ]
          },
          "metadata": {
            "tags": []
          }
        }
      ]
    },
    {
      "cell_type": "markdown",
      "metadata": {
        "id": "z3HNjsdTVotC",
        "colab_type": "text"
      },
      "source": [
        "### Nearest Neighbor Classification (Chris Parks)\n",
        "Nearest neighbors classifiers attempt to use nearby data points to try and classify a record. Since this data is relatively sparse, this classifier was not expected to do particularly well. The only parameter to realistically tune was the number of nearby neighbors to consider.\n",
        "\n",
        "The number of neighbors that were tested ranged between 1 and 100. The classifier was fitted using the training data and training labels, and then a prediction was made using the testing data. The output was compared against the testing labels and stored in the results array to be graphed."
      ]
    },
    {
      "cell_type": "code",
      "metadata": {
        "id": "J2FG1ZRLXZq1",
        "colab_type": "code",
        "colab": {}
      },
      "source": [
        "import sklearn\n",
        "from sklearn.neighbors import KNeighborsClassifier\n",
        "\n",
        "num_neighbors_options = [1, 3, 5, 10, 15, 25, 50, 75, 100]\n",
        "neighbors_labels = ['1',' 3',' 5',' 10',' 15',' 25',' 50',' 75',' 100']\n",
        "results = []\n",
        "\n",
        "if(toggle_calculations):\n",
        "    #Calculate new results\n",
        "    for num_neighbors in num_neighbors_options:\n",
        "        clf = KNeighborsClassifier(n_neighbors=num_neighbors,weights='uniform')\n",
        "        clf.fit(x_train, np.ravel(y_train,order='C'))\n",
        "        \n",
        "        y_pred = clf.predict(x_test)\n",
        "        accuracy = sklearn.metrics.accuracy_score(y_test.values, y_pred)\n",
        "        results.append(accuracy)\n",
        "        print(\"num_neighbors: \", str(num_neighbors), \"; accuracy: \", accuracy)\n",
        "\n",
        "else:\n",
        "    #Results obtained from a previous run; Allows quick adjustments of matplotlib parameters\n",
        "    results = [0.63, 0.59, 0.62, 0.6, 0.66, 0.68, 0.69, 0.69, 0.69]\n",
        "\n",
        "plt.plot(neighbors_labels, results, markerfacecolor='#f54242', markersize=12, color='#f54242', linewidth=3)\n",
        "plt.ylim([0.58,0.7])\n",
        "plt.xlabel('Number of Neighbors')\n",
        "plt.ylabel('Accuracy')\n",
        "plt.title(\"Number of Neighbors vs Accuracy\")\n",
        "plt.show()"
      ],
      "execution_count": null,
      "outputs": []
    },
    {
      "cell_type": "markdown",
      "metadata": {
        "id": "qwEDs47114GH",
        "colab_type": "text"
      },
      "source": [
        "### Artificial Neural Network / Multi-Layer Perceptron (Chris Parks)\n",
        "The multi-layer merceptron classifier has many parameters that can be tuned: the solvers, the activator functions, the number of hidden layers, and the size of each hidden layer.\n",
        "\n",
        "For this classifier, I decided to stick to one hidden layer because of the large number of perumatations already provided by the other parameters.\n",
        "\n",
        "The available solvers were 'lbfgs', 'sgd', and 'adam'. [LBFGS](https://en.wikipedia.org/wiki/Limited-memory_BFGS) stands for 'Limited-Memory Broyden Fletcher Goldfarb Shanno algorithm', and utilizes an inverse [Hessian matrix](https://en.wikipedia.org/wiki/Hessian_matrix) to predict the state of variables. [SGD](https://en.wikipedia.org/wiki/Stochastic_gradient_descent) stands for Stochastic Gradient Descent, and aims to minimize an objective function to find the best prediction. ADAM is based on SGD, but runs 'averages of both the gradients and the second moments of the gradients' ([Source](https://en.wikipedia.org/wiki/Stochastic_gradient_descent#Adam)).\n",
        "\n",
        "The activator functions built into the classifier are nonlinear activation functions, so they 'model the frequency of [action potentials](https://en.wikipedia.org/wiki/Action_potentials), or firing, of biological neurons' ([Source](https://en.wikipedia.org/wiki/Multilayer_perceptron#Activation_function)). The activator functions built into the classifier are:\n",
        "\n",
        "| Name | Function |\n",
        "| ---- | -------- |\n",
        "| Identity | f(x) = x |\n",
        "| Logistic | f(x) = 1 / (1 + exp(-x)) |\n",
        "| Hyperbolic Tangent | f(x) = tanh(x) |\n",
        "| RELU | f(x) = max(0, x) |\n",
        "\n",
        "Lastly, the number of neurons in the hidden layer have been chosen to vary between 10, 20, 30, and 40 in order to provide a wide array of coverage (will a small number of neurons perform better than a large number, or vice versa).\n",
        "\n"
      ]
    },
    {
      "cell_type": "code",
      "metadata": {
        "id": "zqo4VEmH3zX5",
        "colab_type": "code",
        "colab": {}
      },
      "source": [
        "import sklearn\n",
        "from sklearn.neural_network import MLPClassifier\n",
        "\n",
        "results = []\n",
        "solvers = ['lbfgs', 'sgd', 'adam'] #sgd = stochastic gradient descent\n",
        "activators = ['identity','logistic', 'tanh', 'relu'] #logistic = sigmoid\n",
        "hidden_layer_sizes = [10,20,30,40]\n",
        "hidden_layer_sizes_label = ['10','20','30','40']\n",
        "\n",
        "\n",
        "if(toggle_calculations):\n",
        "    #Calculate new results\n",
        "    x=0\n",
        "    for solver in solvers:\n",
        "        results.append([])\n",
        "        y=0\n",
        "        for activator in activators:\n",
        "            results[x].append([])\n",
        "            z=0\n",
        "            for hl_size in hidden_layer_sizes:\n",
        "                results[x][y].append([])\n",
        "                clf = MLPClassifier(solver=solver,alpha=1e-5,hidden_layer_sizes=(hl_size,),activation=activator,random_state=1)\n",
        "                clf.fit(x_train, np.ravel(y_train,order='C'))\n",
        "                y_pred = clf.predict(x_test)\n",
        "                accuracy = sklearn.metrics.accuracy_score(y_test.values, y_pred)\n",
        "                print(\"solver: \", solver, \"; activator: \",activator,\"; hidden_layer_size: \",str(hl_size),\"; accuracy: \", accuracy)\n",
        "                results[x][y][z] = accuracy\n",
        "                z+=1\n",
        "            y+=1\n",
        "        x+=1\n",
        "\n",
        "else:\n",
        "    #Results obtained from a previous run; Allows quick adjustments of matplotlib parameters\n",
        "    results = [[[0.6, 0.97, 0.97, 0.99], [0.63, 0.73, 0.66, 0.59], [0.63, 0.58, 0.59, 0.6], [0.41, 0.7, 0.96, 0.93]], [[0.81, 0.81, 0.7, 0.73], [0.76, 0.78, 0.7, 0.8], [0.7, 0.7, 0.62, 0.67], [0.7, 0.74, 0.63, 0.7]], [[1.0, 0.99, 1.0, 1.0], [1.0, 1.0, 1.0, 1.0], [1.0, 0.99, 1.0, 0.99], [1.0, 1.0, 1.0, 1.0]]]\n",
        "\n",
        "markers = ['+','.','o',',']\n",
        "colors = ['#f54242','#f5ef42','#54f542','#42b9f5']\n",
        "\n",
        "plt.figure(figsize=(9,4))\n",
        "for a in range(0,3):\n",
        "    ax = plt.subplot(131 + a)\n",
        "    ax.set_xlabel('# of Hidden Layers')\n",
        "    ax.set_ylabel('Accuracy')\n",
        "    for b in range(0,4):\n",
        "        plt.plot( hidden_layer_sizes_label, results[a][b], marker=markers[b], markerfacecolor=colors[b], markersize=12, color=colors[b], linewidth=3)\n",
        "        plt.ylim([0.0,1.0])\n",
        "        \n",
        "    plt.legend(activators,loc='lower right',title='Activator')\n",
        "    plt.title(solvers[a] + \" solver\")\n",
        "plt.subplots_adjust(wspace=0.3)\n",
        "plt.show()"
      ],
      "execution_count": null,
      "outputs": []
    },
    {
      "cell_type": "markdown",
      "metadata": {
        "id": "vUjVnxLZDcIW",
        "colab_type": "text"
      },
      "source": [
        "### Ensemble Methods (Chris Parks)\n",
        "Ensemble methods aim to take several weak estimators and aggregate their predictions to form a stronger final prediction.\n",
        "\n",
        "Two ensemble methods were chosen: Bagging and AdaBoost."
      ]
    },
    {
      "cell_type": "markdown",
      "metadata": {
        "id": "ZYHFJMuWFSBj",
        "colab_type": "text"
      },
      "source": [
        "#### Bagging\n",
        "\n",
        "Bagging takes a subset of the data at random (with replacement). It uses a base estimator to fit the data on these random subsets, then aggregates their predictions to form the final prediction. For this classifier, I used a Nearest Neighbor classifier as the base estimator.\n",
        "\n",
        "Parameters to tune include the number of estimators to use (which varied from 2 to 4 to 6) and the percentage of samples to use for each subset (which ranged from 20% to 50%, increasing at 10% intervals).\n",
        "\n",
        "Unfortunately, due to memory constraints, the number of estimators could not increase beyond 6."
      ]
    },
    {
      "cell_type": "code",
      "metadata": {
        "id": "0On9IUynFFCk",
        "colab_type": "code",
        "colab": {}
      },
      "source": [
        "import sklearn\n",
        "from sklearn.neighbors import KNeighborsClassifier\n",
        "from sklearn.ensemble import BaggingClassifier\n",
        "\n",
        "results = []\n",
        "num_estimators_options = [2, 4, 6]\n",
        "est_labels = ['2','4','6']\n",
        "max_samples_options = [0.2, 0.3, 0.4, 0.5]\n",
        "samples_labels = ['0.2','0.3','0.4','0.5']\n",
        "\n",
        "if(toggle_calculations):\n",
        "    #Calculate new results\n",
        "    x=0\n",
        "    for num_estimators in num_estimators_options:\n",
        "        results.append([])\n",
        "        for max_samples in max_samples_options:\n",
        "            clf = BaggingClassifier(base_estimator=KNeighborsClassifier(),max_samples=max_samples, max_features=0.75,n_estimators=num_estimators)\n",
        "            clf.fit(x_train, np.ravel(y_train,order='C'))\n",
        "            y_pred = clf.predict(x_test)\n",
        "            accuracy = sklearn.metrics.accuracy_score(y_test.values, y_pred)\n",
        "            print(\"max_samples: \", str(max_samples), \"; num_estimators: \", str(num_estimators),\" accuracy: \", accuracy)\n",
        "            results[x].append(accuracy)\n",
        "        x+=1\n",
        "\n",
        "else:\n",
        "    #Results obtained from a previous run; Allows quick adjustments of matplotlib parameters\n",
        "    results = [[0.54, 0.54, 0.62, 0.58], [0.69, 0.63, 0.68, 0.61], [0.66,0.65,0.65,0.64]]\n",
        "\n",
        "markers = ['+','.','o',',']\n",
        "colors = ['#f54242','#f5ef42','#54f542','#42b9f5']\n",
        "\n",
        "for a in range(0,3):\n",
        "    plt.plot(samples_labels, results[a],marker=markers[a], markerfacecolor=colors[a], markersize=12, color=colors[a], linewidth=3)\n",
        "    plt.ylim([0.4,0.8])\n",
        "plt.xlabel('Max Samples')\n",
        "plt.ylabel('Accuracy')\n",
        "plt.legend(est_labels,loc='lower right',title='# Estimators')\n",
        "plt.title(\"# Max Samples vs Accuracy\")\n",
        "plt.show()"
      ],
      "execution_count": null,
      "outputs": []
    },
    {
      "cell_type": "markdown",
      "metadata": {
        "id": "Q_P0tneFFKLb",
        "colab_type": "text"
      },
      "source": [
        "#### AdaBoost\n",
        "\n",
        "AdaBoost works by improving its weak estimators over several iterations. Instead of working on a subset of data, the estimators are tweaked to try and correctly classify records that were misclassified last time.\n",
        "\n",
        "The main two parameters to tweak are the number of estimators and the learning rate. However, because scikit claims there is a trade off between these two parameters, and because of how effective the classifier is with just the default learning rate, the learning rate was not adjusted. Instead, just the number of estimators were adjusted to values in between 10 and 200.\n",
        "\n",
        "Again, this demonstrated that AdaBoost is a powerful technique, even with a low amount of estimators, and that increasing the number of estimators gives sharp diminishing returns in regards to accuracy."
      ]
    },
    {
      "cell_type": "code",
      "metadata": {
        "id": "CFvkezVjFMg5",
        "colab_type": "code",
        "colab": {}
      },
      "source": [
        "import sklearn\n",
        "from sklearn.ensemble import AdaBoostClassifier\n",
        "\n",
        "results = []\n",
        "num_estimators_options = [10, 25, 50, 100, 150, 200]\n",
        "est_labels = ['10','25','50','100','150','200']\n",
        "\n",
        "if(toggle_calculations):\n",
        "    #Calculate new results\n",
        "    for n_estimators in num_estimators_options:\n",
        "        clf = AdaBoostClassifier(n_estimators=n_estimators)\n",
        "        clf.fit(x_train, np.ravel(y_train,order='C'))\n",
        "        y_pred = clf.predict(x_test)\n",
        "        accuracy = sklearn.metrics.accuracy_score(y_test.values, y_pred)\n",
        "        results.append(accuracy)\n",
        "        print(\"num_estimators: \", str(n_estimators), \" accuracy: \", accuracy)\n",
        "\n",
        "else:\n",
        "    #Results obtained from a previous run; Allows quick adjustments of matplotlib parameters\n",
        "    results = [0.94,0.95,0.95,0.96,0.96,0.96]\n",
        "\n",
        "plt.plot(est_labels, results, markerfacecolor='#f54242', markersize=12, color='#f54242', linewidth=3) #identity\n",
        "plt.ylim([0.9,1.0])\n",
        "plt.xlabel('# Estimators')\n",
        "plt.ylabel('Accuracy')\n",
        "plt.title(\"# Estimators vs Accuracy\")\n",
        "plt.show()"
      ],
      "execution_count": null,
      "outputs": []
    },
    {
      "cell_type": "markdown",
      "metadata": {
        "id": "ZgoUGH5pDyAC",
        "colab_type": "text"
      },
      "source": [
        "## Task 3: Exploring Used Auto Purchase Dataset"
      ]
    },
    {
      "cell_type": "markdown",
      "metadata": {
        "id": "px3cy2vhEFYo",
        "colab_type": "text"
      },
      "source": [
        "### Decision Tree Hypothesis Testing\n",
        "\n",
        "#### **Hypothesis**\n",
        "The goal for this experiment was to test the hypothesis that hand-picked attributes from the used auto purchase dataset could be used to find correlations to the vehicle-type that a customer would buy. The attributes chosen for the training and testing datasets were those that were believed might be individually correlated to this choice. For the label vehicle type, the class can be one of four values: Car, Truck, Van, or SUV.\n",
        "\n",
        "#### **Data Preprocessing**\n",
        "The used auto purchase dataset was first read into a Pandas DataFrame. Extraneous rows were removed from the DataFrame, and then the DataFrame was filtered down to only include those attributes that were chosen to be tested. Those attributes were as follows:\n",
        "\n",
        "* BehaviorBank: Internet/Online Subscriber\n",
        "* BehaviorBank: Donates to Environmental Causes\n",
        "* BehaviorBank: Interest in Foreign Travel\n",
        "* BehaviorBank: Interest in Automotive\n",
        "* BehaviorBank: Interest in Reading\n",
        "* BehaviorBank: Interest in Travel\n",
        "* BehaviorBank: Cat Enthusiast\n",
        "* BehaviorBank: Interest in Domestic Travel\n",
        "* MOR Bank Religious Contributor\n",
        "* MOR Bank - Upscale Merch Buyer\n",
        "* MOR Bank Do-It-Yourselfers\n",
        "* MOR Bank Male Sports Magazine\n",
        "* Ethnic Insight - Experian Group Code - Use this for group\n",
        "* Rural Urban County Size Code\n",
        "* Dwelling Type\n",
        "* Home Heat Indicator\n",
        "* Home Fireplaces\n",
        "* Home Property Indicator\n",
        "* Person Education\n",
        "* Gender Code\n",
        "* Presence of E-mail\n",
        "* Homeowner Probability Model\n",
        "\n",
        "This set of attributes consisted of continuous, discrete, and categorical value types. All of the values were converted to numerical floats for the decision tree classification algorithm. This was a sparse dataset, so all nan values were replaced with values of zero. The label attribute was put into its own single column DataFrame. There were 9999 records in the DataFrame. The first 7000 records were chosen for the training of the decision tree model and the last 2999 records were chosen for the testing of the prediction array."
      ]
    },
    {
      "cell_type": "markdown",
      "metadata": {
        "id": "ik4453Mc_3nY",
        "colab_type": "text"
      },
      "source": [
        "#### **Results From Hand-Picked Attributes**\n",
        "\n",
        "Parameter tuning was used to find the best prediction accuracy rate for the decision tree classifier. Accuracy scores were taken from models constructed with all 2808 combinations of the maximum depth parameter from 1 to 40, the minimum sample split parameter from 2 to 20, and the maximum feature parameter as the default value, the full number, square root, and log base two of the total number of features in the tree. The miminum accuracy rate from these combinations was around 45% and the maximum accuracy rate was around 55%. Exaxt values can be seen below as well as the parameter values that were used to construct the decision tree."
      ]
    },
    {
      "cell_type": "code",
      "metadata": {
        "id": "oJ-y_wy7uVUt",
        "colab_type": "code",
        "colab": {
          "base_uri": "https://localhost:8080/",
          "height": 287
        },
        "outputId": "5590bd19-0381-491c-c8e2-bd9bedbe6e1d"
      },
      "source": [
        "import pandas\n",
        "import graphviz\n",
        "from sklearn.metrics import classification_report, confusion_matrix\n",
        "from sklearn import tree\n",
        "\n",
        "from task3_format_data import auto_csv_to_df, reformat_auto_data_vals\n",
        "\n",
        "pandas.options.mode.chained_assignment = None  # default='warn'\n",
        "\n",
        "USED_AUTO_DATA_PATH = \"/content/UsedAutoRELEVATEfirst10000-noLatLong.csv\"\n",
        "\n",
        "auto_df = auto_csv_to_df(USED_AUTO_DATA_PATH)\n",
        "auto_df = reformat_auto_data_vals(auto_df)\n",
        "\n",
        "# keep only selected attributes\n",
        "x_data = auto_df.loc[:, (\n",
        "    'BehaviorBank: Internet/Online Subscriber',\n",
        "    'BehaviorBank: Donates to Environmental Causes',\n",
        "    'MOR Bank Religious Contributor',\n",
        "    'Rural Urban County Size Code',\n",
        "    'BehaviorBank: Interest in Foreign Travel',\n",
        "    'Ethnic Insight - Experian Group Code - Use this for group',\n",
        "    'BehaviorBank: Interest in Automotive',\n",
        "    'MOR Bank - Upscale Merch Buyer',\n",
        "    'Dwelling Type',\n",
        "    'MOR Bank Do-It-Yourselfers',\n",
        "    'MOR Bank Male Sports Magazine',\n",
        "    'BehaviorBank: Interest in Reading',\n",
        "    'BehaviorBank: Interest in Travel',\n",
        "    'Home Heat Indicator',\n",
        "    'BehaviorBank: Cat Enthusiast',\n",
        "    'BehaviorBank: Interest in Domestic Travel',\n",
        "    'Home Fireplaces',\n",
        "    'Home Property Indicator',\n",
        "    'Person Education',\n",
        "    'Gender Code',\n",
        "    'Presence of E-mail',\n",
        "    'Homeowner Probability Model')]\n",
        "\n",
        "# replace string codes with numerical values\n",
        "x_data.loc[:, 'BehaviorBank: Internet/Online Subscriber'].replace({'U': 0, 'Y': 1}, value=None, inplace=True)\n",
        "x_data.loc[:, 'BehaviorBank: Donates to Environmental Causes'].replace({'U': 0, 'Y': 1}, value=None, inplace=True)\n",
        "x_data.loc[:, 'BehaviorBank: Interest in Foreign Travel'].replace({'U': 0, 'Y': 1}, value=None, inplace=True)\n",
        "x_data.loc[:, 'BehaviorBank: Interest in Automotive'].replace({'U': 0, 'Y': 1}, value=None, inplace=True)\n",
        "x_data.loc[:, 'BehaviorBank: Interest in Reading'].replace({'U': 0, 'Y': 1}, value=None, inplace=True)\n",
        "x_data.loc[:, 'BehaviorBank: Interest in Travel'].replace({'U': 0, 'Y': 1}, value=None, inplace=True)\n",
        "x_data.loc[:, 'BehaviorBank: Cat Enthusiast'].replace({'U': 0, 'Y': 1}, value=None, inplace=True)\n",
        "x_data.loc[:, 'BehaviorBank: Interest in Domestic Travel'].replace({'U': 0, 'Y': 1}, value=None, inplace=True)\n",
        "x_data.loc[:, 'Presence of E-mail'].replace({'U': 0, 'Y': 1}, value=None, inplace=True)\n",
        "x_data.loc[:, 'Dwelling Type'].replace({'A': 1, 'M': 2, 'P': 3, 'S': 4}, value=None, inplace=True)\n",
        "x_data.loc[:, 'Gender Code'].replace({'B': 1, 'F': 2, 'M': 3, 'U': 4, 'A': 5}, value=None, inplace=True)\n",
        "x_data.loc[:, 'Homeowner Probability Model'].replace({0: 1, 101: 2, 102: 3}, value=None, inplace=True)\n",
        "\n",
        "# fill nan values with -1\n",
        "x_data.fillna(0, inplace=True)\n",
        "\n",
        "y_label = auto_df[['Vehicle Type']]\n",
        "y_label['Vehicle Type'].replace({'CAR': 1, 'SUV': 2, 'TRUCK': 3, 'VAN': 4}, value=None, inplace=True)\n",
        "\n",
        "x_data_training = x_data.iloc[1:7000]\n",
        "x_data_testing = x_data.iloc[7001:]\n",
        "\n",
        "y_label_training = y_label.iloc[1:7000]\n",
        "y_label_testing = y_label.iloc[7001:]\n",
        "\n",
        "trials_list = []\n",
        "\n",
        "max_acc_val = 0\n",
        "\n",
        "for depth in range(1, 40):\n",
        "    for min_samp in range(2, 20):\n",
        "        for max_feat in [None, 'auto', 'sqrt', 'log2']:\n",
        "            clf = tree.DecisionTreeClassifier(\n",
        "                max_depth=depth,\n",
        "                min_samples_split=min_samp,\n",
        "                max_features=max_feat,\n",
        "            )\n",
        "            clf = clf.fit(x_data_training, y_label_training)\n",
        "\n",
        "            depth = clf.get_depth()\n",
        "\n",
        "            y_pred = clf.predict(x_data_testing)\n",
        "            accuracy = accuracy_score(y_label_testing.values, y_pred)\n",
        "\n",
        "            if accuracy > max_acc_val:\n",
        "                max_acc_val = accuracy\n",
        "                max_clf = clf\n",
        "\n",
        "            trials_list.append(\n",
        "                {\n",
        "                    'accuracy': accuracy,\n",
        "                    'max_depth': depth,\n",
        "                    'min_samples_split': min_samp,\n",
        "                    'max_features': max_feat\n",
        "                }\n",
        "            )\n",
        "\n",
        "trials_list = sorted(trials_list, key=lambda i: i['accuracy'])\n",
        "trial_max_acc = trials_list[-1]\n",
        "trial_min_acc = trials_list[0]\n",
        "trials_count = len(trials_list)\n",
        "\n",
        "print(f\"number of trials: {trials_count}\\n\")\n",
        "print(f\"min accuracy trial:\\naccuracy: {trial_min_acc['accuracy']}\\nmax_depth: {trial_min_acc['max_depth']}\\nmin_samples_split: {trial_min_acc['min_samples_split']}\\nmax_features: {trial_min_acc['max_features']}\\n\")\n",
        "print(f\"max accuracy trial:\\naccuracy: {trial_max_acc['accuracy']}\\nmax_depth: {trial_max_acc['max_depth']}\\nmin_samples_split: {trial_max_acc['min_samples_split']}\\nmax_features: {trial_max_acc['max_features']}\\n\\n\")\n",
        "\n",
        "y_pred = max_clf.predict(x_data_testing)\n",
        "accuracy = accuracy_score(y_label_testing.values, y_pred)\n"
      ],
      "execution_count": null,
      "outputs": [
        {
          "output_type": "stream",
          "text": [
            "number of trials: 2808\n",
            "\n",
            "min accuracy trial:\n",
            "accuracy: 0.4676450967311541\n",
            "max_depth: 25\n",
            "min_samples_split: 2\n",
            "max_features: None\n",
            "\n",
            "max accuracy trial:\n",
            "accuracy: 0.5490326884589727\n",
            "max_depth: 6\n",
            "min_samples_split: 8\n",
            "max_features: None\n",
            "\n",
            "\n"
          ],
          "name": "stdout"
        }
      ]
    },
    {
      "cell_type": "markdown",
      "metadata": {
        "id": "93PffPbDAPOa",
        "colab_type": "text"
      },
      "source": [
        "#### **Accuracy Check with Bad Data**\n",
        "\n",
        "The accuracy ratios obtained from the hand-piced attribute decision trees were not good, hovering around the 50% level. To test if there was any correlation at all between the hand-picked attributes and which vehicle type the customer would by a training dataset was created with the same shape as the original training dataset, but filled with all zeros. This would create a decision tree of a single node, and no predictive capabilities. The resulting decision tree classifier guessed 'Car' for every label prediction in the testing dataset and was correct around 55% of the time because around 55% of the testing labels had a value of 'Car'. At this point it was determined that the hand-picked attributes had no correlation to the type of vehicle that the customer would buy.\n"
      ]
    },
    {
      "cell_type": "code",
      "metadata": {
        "id": "wslj-no8AnB1",
        "colab_type": "code",
        "colab": {}
      },
      "source": [
        "\"\"\"\n",
        "Test on a zero array of the same dimensions as the regular training data array.\n",
        "\"\"\"\n",
        "\n",
        "num_rows = auto_df.shape[0]\n",
        "zeros = np.zeros(shape=(num_rows, 22))\n",
        "zdf = pandas.DataFrame(zeros)\n",
        "x_data_blank = zdf\n",
        "\n",
        "x_data_training_blank = x_data_blank[1:7000]\n",
        "\n",
        "clf_blank = tree.DecisionTreeClassifier()\n",
        "clf_blank = clf_blank.fit(x_data_training_blank, y_label_training)\n",
        "\n",
        "depth = clf_blank.get_depth()\n",
        "\n",
        "y_pred = clf_blank.predict(x_data_testing)\n",
        "accuracy = accuracy_score(y_label_testing.values, y_pred)\n",
        "\n",
        "print(f\"depth of tree: {depth}\")\n",
        "print(f\"prediction accuracy: {accuracy}\\n\")"
      ],
      "execution_count": null,
      "outputs": []
    },
    {
      "cell_type": "markdown",
      "metadata": {
        "id": "rq_g9nbIBInc",
        "colab_type": "text"
      },
      "source": [
        "#### **Attributes with Less Than 50% NAN Values**\n",
        "\n",
        "Instead of hand-picking attributes to find correlations to the vehicle type, only attributes that had less than 50% NAN values for all 9999 observations were chosen for the training and testing datasets. This reduced the number of features to 195. Before this was done, all attributes relating to the vehicle purchased were removed, as the goal was to test whether customer behavioral traits correlated to the type of vehicle the customer.\n",
        "\n",
        "For the first run of this experiment, the accuracy rate of the decision tree predictions dropped to around 35%."
      ]
    },
    {
      "cell_type": "code",
      "metadata": {
        "id": "48bWSuH5B_qP",
        "colab_type": "code",
        "colab": {}
      },
      "source": [
        "from task3_format_data import df_perc_nan_less_than, categorical_to_numerical, column_percent_nan\n",
        "\n",
        "auto_df = auto_csv_to_df(USED_AUTO_DATA_PATH)\n",
        "auto_df = reformat_auto_data_vals(auto_df)\n",
        "\n",
        "# keep only columns with less than 50% nans\n",
        "filtered_df = df_perc_nan_less_than(auto_df, 0.5)\n",
        "\n",
        "# convert categorical columns to numerical values\n",
        "filtered_df = categorical_to_numerical(filtered_df)\n",
        "\n",
        "names = list(filtered_df.columns)\n",
        "\n",
        "x_data = filtered_df\n",
        "x_data = x_data.drop(\n",
        "    ['Acct#',\n",
        "     'Model 1',\n",
        "     'Engine Cylinders',\n",
        "     'Vehicle 1 Trim',\n",
        "     'Engine Size',\n",
        "     'Drive Type',\n",
        "     'Fuel Type',\n",
        "     'Make 1',\n",
        "     'Engine Block',\n",
        "     'Year 1',\n",
        "     'Vehicle Type'\n",
        "     ], axis=1\n",
        ")\n",
        "y_label = filtered_df[['Vehicle Type']]\n",
        "\n",
        "x_data_training = x_data.iloc[1:7000]\n",
        "x_data_testing = x_data.iloc[7001:]\n",
        "\n",
        "y_label_training = y_label.iloc[1:7000]\n",
        "y_label_testing = y_label.iloc[7001:]\n",
        "\n",
        "clf = tree.DecisionTreeClassifier()\n",
        "clf = clf.fit(x_data_training, y_label_training)\n",
        "\n",
        "depth = clf.get_depth()\n",
        "\n",
        "y_pred = clf.predict(x_data_testing)\n",
        "accuracy = accuracy_score(y_label_testing.values, y_pred)\n",
        "\n",
        "print(f\"depth of tree: {depth}\")\n",
        "print(f\"prediction accuracy: {accuracy}\")\n",
        "print(f\"number of features: {clf.n_features_}\")"
      ],
      "execution_count": null,
      "outputs": []
    },
    {
      "cell_type": "markdown",
      "metadata": {
        "id": "xIVvfHqSERk0",
        "colab_type": "text"
      },
      "source": [
        "For the second run of this experiment, only features with a feature importance value greater than 0.1 were kept in the training set. This reduced the number of features to two. The accuracy rate for this decision tree's prediction was around 40%, an improvement over the first round, but worse than the hand-picked attribute experiment."
      ]
    },
    {
      "cell_type": "code",
      "metadata": {
        "id": "IOphK9BYESoO",
        "colab_type": "code",
        "colab": {}
      },
      "source": [
        "feature_importance = clf.feature_importances_\n",
        "important_features_cols = []\n",
        "for i, v in enumerate(list(feature_importance)):\n",
        "    important_features_cols.append((i, v))\n",
        "important_features_cols.sort(key=lambda x: x[1], reverse=True)\n",
        "\n",
        "names = list(x_data_testing.columns)\n",
        "important_features_cols = [i for i in important_features_cols if i[1] > 0.1]\n",
        "\n",
        "names_filtered = []\n",
        "for i in important_features_cols:\n",
        "    names_filtered.append(names[i[0]])\n",
        "\n",
        "x_data_2 = x_data[names_filtered]\n",
        "x_data_2_training = x_data_2.iloc[1:7000]\n",
        "x_data_2_testing = x_data_2.iloc[7001:]\n",
        "\n",
        "clf2 = tree.DecisionTreeClassifier()\n",
        "clf2 = clf2.fit(x_data_2_training, y_label_training)\n",
        "\n",
        "depth = clf2.get_depth()\n",
        "\n",
        "y_pred = clf2.predict(x_data_2_testing)\n",
        "accuracy = accuracy_score(y_label_testing.values, y_pred)\n",
        "\n",
        "print(f\"depth of tree: {depth}\")\n",
        "print(f\"prediction accuracy: {accuracy}\")\n",
        "print(f\"number of features: {clf2.n_features_}\")"
      ],
      "execution_count": null,
      "outputs": []
    },
    {
      "cell_type": "markdown",
      "metadata": {
        "id": "nRUW2eZ_EyHP",
        "colab_type": "text"
      },
      "source": [
        "For the third run of this experiment certain attributes relating to the vehicle being purchased were allowd back into the training dataset such as engine size and engine cylinders. Vehicle attributes that would have provided too much of a correlation were kept out of the training set, such as the model of the vehicle and the vehicle trim. The filter on feature importance was removed. This resulted in 201 features in the tree. This run of the experiment produced accuracy rates around 70%."
      ]
    },
    {
      "cell_type": "code",
      "metadata": {
        "id": "qBP3OMUoEylC",
        "colab_type": "code",
        "colab": {}
      },
      "source": [
        "x_data_3 = filtered_df\n",
        "x_data_3 = x_data_3.drop(\n",
        "    ['Acct#',\n",
        "     'Model 1',\n",
        "     'Vehicle 1 Trim',\n",
        "     'Make 1',\n",
        "     'Vehicle Type'\n",
        "     ], axis=1\n",
        ")\n",
        "\n",
        "x_data_3_training = x_data_3.iloc[1:7000]\n",
        "x_data_3_testing = x_data_3.iloc[7001:]\n",
        "\n",
        "clf3 = tree.DecisionTreeClassifier()\n",
        "clf3 = clf3.fit(x_data_3_training, y_label_training)\n",
        "\n",
        "depth = clf3.get_depth()\n",
        "\n",
        "y_pred = clf3.predict(x_data_3_testing)\n",
        "accuracy = accuracy_score(y_label_testing.values, y_pred)\n",
        "\n",
        "print(f\"depth of tree: {depth}\")\n",
        "print(f\"prediction accuracy: {accuracy}\")\n",
        "print(f\"number of features: {clf3.n_features_}\")"
      ],
      "execution_count": null,
      "outputs": []
    },
    {
      "cell_type": "markdown",
      "metadata": {
        "id": "khpLnJzWFBuv",
        "colab_type": "text"
      },
      "source": [
        "To see if any decent accuracy rates were possible with the decision tree classifier, a fourth run of this experiment was run allowing only attributes with less than 40% NAN values. This experiment also allowed all vehicle attributes except for the vehicle model, the vehicle trim, the vehicle make, and the label vehicle type. An accuracy rate around 75% was achieved with this decision tree classifier.\n",
        "\n",
        "* These are the features that were in this tree:\n",
        "* Carrier Route\n",
        "* Transaction Date\n",
        "* Engine Size\n",
        "* Engine Cylinders\n",
        "* Drive Type\n",
        "* Fuel Type\n",
        "* Delivery Point Check Digit\n",
        "* Phone DNC Status\n",
        "* Engine Block\n",
        "* Year 1\n",
        "* Delivery Point\n",
        "* Gender Code\n",
        "* Wireless Phone DNC Status\n"
      ]
    },
    {
      "cell_type": "code",
      "metadata": {
        "id": "Ge09H_gDGix8",
        "colab_type": "code",
        "colab": {}
      },
      "source": [
        "auto_df = auto_csv_to_df(USED_AUTO_DATA_PATH)\n",
        "auto_df = reformat_auto_data_vals(auto_df)\n",
        "\n",
        "# keep only columns with less than 40% nans\n",
        "filtered_df = df_perc_nan_less_than(auto_df, 0.4)\n",
        "\n",
        "# convert categorical columns to numerical values\n",
        "filtered_df = categorical_to_numerical(filtered_df)\n",
        "\n",
        "x_data = filtered_df\n",
        "x_data = x_data.drop(\n",
        "    ['Acct#',\n",
        "     'Model 1',\n",
        "     'Vehicle 1 Trim',\n",
        "     'Make 1',\n",
        "     'Vehicle Type'\n",
        "     ], axis=1\n",
        ")\n",
        "y_label = filtered_df[['Vehicle Type']]\n",
        "\n",
        "x_data_training = x_data.iloc[1:7000]\n",
        "x_data_testing = x_data.iloc[7001:]\n",
        "\n",
        "y_label_training = y_label.iloc[1:7000]\n",
        "y_label_testing = y_label.iloc[7001:]\n",
        "\n",
        "clf = tree.DecisionTreeClassifier()\n",
        "clf = clf.fit(x_data_training, y_label_training)\n",
        "\n",
        "depth = clf.get_depth()\n",
        "\n",
        "y_pred = clf.predict(x_data_testing)\n",
        "accuracy = accuracy_score(y_label_testing.values, y_pred)\n",
        "\n",
        "print(f\"depth of tree: {depth}\")\n",
        "print(f\"prediction accuracy: {accuracy}\")\n",
        "print(f\"number of features: {clf.n_features_}\")"
      ],
      "execution_count": null,
      "outputs": []
    },
    {
      "cell_type": "markdown",
      "metadata": {
        "id": "VaaiE9jWHjqT",
        "colab_type": "text"
      },
      "source": [
        "#### **Conclusion for Decision Tree Pattern Recognition**\n",
        "\n",
        "After these experiments it can be determined that the behavioral traits of customers buying used cars that were gathered in this dataset have little to no correlation with the type of vehicle that the customer purchased. This may be due to how sparse this dataset was, or more accurate decision tree predictions may be made if the data was grouped into better attribute values."
      ]
    },
    {
      "cell_type": "markdown",
      "metadata": {
        "id": "_rS-9gkG3HoD",
        "colab_type": "text"
      },
      "source": [
        "### Apriori Algorithm Pattern Recognition\n",
        "\n",
        "\n",
        "\n",
        "#### **Hypothesis**\n",
        "\n",
        "The goal for this experiment is to attempt to discover hidden relationships between the various customer attributes in order to construct distinct subgroups that the customers can be placed in. The Apriori Algorithm was chosen to accomplish this goal because of its ability to search through all permutations of fields and generate association rules.\n",
        "\n",
        "#### Data Preprocessing\n",
        "\n",
        "Since the aim of this experiment is to place customers in groups rather than attempt to correlate them to a vehicle type, the types of fields that are relevant to this experiment differ from the fields in the above experiment. Fields were hand-picked based upon general relevance to the customer:\n",
        "\n",
        "* BehaviorBank: Cat Enthusiast\n",
        "* BehaviorBank: Computer Owner\n",
        "* BehaviorBank: Contributes to Charities\n",
        "* BehaviorBank: Cruise Enthusiasts\n",
        "* BehaviorBank: Dog Enthusiasts\n",
        "* BehaviorBank: Donates to Environmental Causes\n",
        "* BehaviorBank: Home Decorating/Furnishing\n",
        "* BehaviorBank: Interest in Automotive\n",
        "* BehaviorBank: Interest in Domestic Travel\n",
        "* BehaviorBank: Interest in Fitness\n",
        "* BehaviorBank: Interest in Foreign Travel\n",
        "* BehaviorBank: Interest in Gardening\n",
        "* BehaviorBank: Interest in Gourmet Cooking\n",
        "* BehaviorBank: Interest in Reading\n",
        "* BehaviorBank: Interest in Sports\n",
        "* BehaviorBank: Interest in the Outdoors\n",
        "* BehaviorBank: Interest in Travel\n",
        "* BehaviorBank: Internet/Online Subscriber\n",
        "* BehaviorBank: Invest in Mutual Funds/Annuities\n",
        "* BehaviorBank: Investor\n",
        "* BehaviorBank: Pet Enthusiast\n",
        "* BehaviorBank: Presence of Credit Card\n",
        "* BehaviorBank: Presence of Premium Credit Card\n",
        "* BehaviorBank: Purchase via On line\n",
        "* BehaviorBank: Purchased Through the Mail\n",
        "* Drive Type\n",
        "* Dwelling Unit Size\n",
        "* Engine Size\n",
        "* Estimated Current Home Value\n",
        "* Estimated Equity - Amount in thousands\n",
        "* Estimated Mortgage Amount - Amount in thousands\n",
        "* Ethnic Insight - Alphabetic Religion Code\n",
        "* Gender Code\n",
        "* Person Exact Age\n",
        "* Person Marital Status\n",
        "* Presence of Children Type\n",
        "* Presence of E-mail\n",
        "* Vehicle Type\n",
        "* Year 1\n",
        "\n",
        "In addition, continuous fields were converted into discrete fields (eg., Person Exact Age is rounded to the nearest decade). This is because Apriori treats every piece of data as a discrete value (51 is as close to 52 as it is to 85). For this same reason, every piece of data had its field name attached to the beginning. This is to distinguish, say, a 'Yes' from one field with a 'Yes' from another field.\n",
        "\n",
        "Next, the BehaviorBank fields, which contain the most personal information, can have values of 'Y', 'U', or empty. I decided to treat all 'U' and empty cases as the same response because of the nature of the question requiring a 'Yes' or 'No' response. Finally, because of how long Apriori can take on large datasets, only a quarter of the total dataset is used to generate the rules. 2500 records are chosen randomly every run as a trade-off between time and representation of the total dataset.\n",
        "\n",
        "#### Results\n",
        "\n",
        "##### **WARNING: THIS ALGORITHM WILL TAKE A LONG TIME TO COMPLETE.** On my personal computer it took upwards of 45 minutes to complete. <u>When prompted, type 'yes' to proceed with the calculations or 'no' to print an example ruleset from a previous run.</u>\n"
      ]
    },
    {
      "cell_type": "code",
      "metadata": {
        "id": "wFSL4FTh2074",
        "colab_type": "code",
        "colab": {}
      },
      "source": [
        "!pip install apyori\n",
        "\n",
        "import numpy as np\n",
        "import matplotlib.pyplot as plt\n",
        "import pandas as pd\n",
        "import csv\n",
        "from apyori import apriori\n",
        "import random\n",
        "\n",
        "path = \"/content/data_nochanges.csv\"\n",
        "numLines = 2500\n",
        "\n",
        "minsup = 0.25\n",
        "mincon = 0.3\n",
        "minlift = 1.8\n",
        "maxlen = 5\n",
        "\n",
        "useful_columns = [6,7,8,9,10,11,12,13,14,15,16,17,18,19,20,21,22,23,24,25,26,27,28,29,30,93,96,99,101,103,109,112,124,255,257,264,265,277,279]\n",
        "useless_labels = ['unknown']\n",
        "\n",
        "labels = []\n",
        "data = []\n",
        "data_index = 0\n",
        "\n",
        "typed_answer = False\n",
        "\n",
        "print(\"Perform calculations? (Type 'yes' to proceed, type 'no' to print a previous run's results and save time)\")\n",
        "\n",
        "while(not typed_answer):\n",
        "    answer = input().lower()\n",
        "    if(answer == 'yes' or answer == 'no'):\n",
        "        typed_answer = True\n",
        "\n",
        "if(answer == 'yes'):\n",
        "    with open(path,newline='') as csvfile:\n",
        "        spamreader = csv.reader(csvfile,delimiter=',',quotechar='|')\n",
        "        for i, row in enumerate(spamreader):\n",
        "            if(i == 0):\n",
        "                for j,x in enumerate(row):\n",
        "                    if(j in useful_columns):\n",
        "                        s = x\n",
        "                        s = s.replace('BehaviorBank: ','')\n",
        "                        labels.append(s)\n",
        "            else:\n",
        "                data.append([])\n",
        "                for j,x in enumerate(row):\n",
        "                    if(j in useful_columns):\n",
        "                        data[data_index].append(x)\n",
        "                data_index+=1\n",
        "    all_values = []\n",
        "    d_dwelling = {'A':'1','B':'2','C':'3','D':'4','E':'5-9','F':'10-19','G':'20-49','H':'50-100','I':'101+'}\n",
        "    d_religion = {'B':'Buddhist','C':'Catholic','E':'Ethiopian Orthodox','G':'Greek Orthodox','H':'Hindu','I':'Muslim','J':'Jewish','K':'Sikh','L':'Lutheran','M':'Mormon','O':'Eastern Orthodox','P':'Protestant','S':'Shinto','X':'unknown'}\n",
        "    d_married = {'5S':'S', '1M':'M', '5U':'unknown', '0U':'unknown', '5M':'M'}\n",
        "    for i,x in enumerate(labels):\n",
        "        for j,y in enumerate(data):\n",
        "            if(i == 26):\n",
        "                if(y[i] in d_dwelling):\n",
        "                    data[j][i] = d_dwelling[y[i]]\n",
        "                else:\n",
        "                    data[j][i] = \"unknown\"\n",
        "            elif(i == 34):\n",
        "                if(y[i] in d_married):\n",
        "                    data[j][i] = d_married[y[i]]\n",
        "                else:\n",
        "                    data[j][i] = \"unknown\"\n",
        "            elif((i >= 0 and i <= 24) or i == 35):\n",
        "                if(y[i] == 'U'):\n",
        "                    data[j][i] = 'unknown'\n",
        "                elif(y[i] == ''):\n",
        "                    data[j][i] = \"unknown\"\n",
        "            elif(i == 36):\n",
        "                if(y[i] == ''):\n",
        "                    data[j][i] = 'N'\n",
        "            elif(i == 27):\n",
        "                if(data[j][i] == ''):\n",
        "                    data[j][i] = \"unknown\"\n",
        "                else:\n",
        "                    data[j][i] = round(float(data[j][i]) * 1,0) / 1\n",
        "            elif(i == 31):\n",
        "                if(y[i] in d_religion):\n",
        "                    data[j][i] = d_religion[y[i]]\n",
        "                else:\n",
        "                    data[j][i] = \"unknown\"\n",
        "            elif(i == 32):\n",
        "                if(y[i] == \"U\"):\n",
        "                    data[j][i] = \"unknown\"\n",
        "            elif(i == 33 or i == 38):\n",
        "                if(data[j][i] == ''):\n",
        "                    data[j][i] = \"unknown\"\n",
        "                else:\n",
        "                    data[j][i] = round(float(data[j][i]) / 10,0) * 10\n",
        "            elif(i == 28):\n",
        "                if(data[j][i] == ''):\n",
        "                    data[j][i] = \"unknown\"\n",
        "                else:\n",
        "                    data[j][i] = round(float(data[j][i]) / 1000000,0) * 1000000\n",
        "            elif(i == 29):\n",
        "                if(data[j][i] == ''):\n",
        "                    data[j][i] = \"unknown\"\n",
        "                else:\n",
        "                    data[j][i] = round(float(data[j][i]) / 200,0) * 200\n",
        "            elif(i == 30):\n",
        "                if(data[j][i] == ''):\n",
        "                    data[j][i] = \"unknown\"\n",
        "                else:\n",
        "                    data[j][i] = round(float(data[j][i]) / 200,0) * 200\n",
        "            elif(y[i] == ''):\n",
        "                data[j][i] = \"unknown\"\n",
        "    for i,x in enumerate(labels):\n",
        "        arr = []\n",
        "        for j,y in enumerate(data):\n",
        "            arr.append(y[i])\n",
        "        all_values.append(list(set(arr)))\n",
        "    #records = data\n",
        "    for i,x in enumerate(data):\n",
        "        for j, y in enumerate(x):\n",
        "            data[i][j] = labels[j] + \" = \" + str(x[j])\n",
        "\n",
        "    random.shuffle(data)\n",
        "    data = data[:numLines]\n",
        "    \n",
        "    print(\"Done with append: \" + str(len(data)) + \" records\")\n",
        "    print(\"Calculating: Please wait. Prepare for a long wait time...\")\n",
        "    #int(\"Possible values:\")\n",
        "    #for x in all_values:\n",
        "    #    print(x)\n",
        "    \n",
        "    association_rules = apriori(data, min_support=minsup, min_confidence=mincon, min_lift=minlift, max_length=maxlen)\n",
        "    association_results = list(association_rules)\n",
        "\n",
        "    print(\"Rules:\")\n",
        "    for item in association_results:\n",
        "        cont = True\n",
        "        for x in useless_labels:\n",
        "            for y in item[0]:\n",
        "                if(y.count(x)):\n",
        "                    cont = False\n",
        "                    break\n",
        "            if(cont == False):\n",
        "                break\n",
        "        if(cont):\n",
        "            print(str(list(item[2][0][0])) + \" -> \" + str(list(item[2][0][1])) + \" (confidence = \" + str(round(item[2][0][2],3)) + \", lift = \" + str(round(item[2][0][3],3)) + \", support = \" + str(round(item[1],3)) + \")\")\n",
        "elif(answer == 'no'):\n",
        "    res = open(\"/content/q3_results_18.txt\")\n",
        "    print(res.read())\n",
        "    res.close()"
      ],
      "execution_count": null,
      "outputs": []
    },
    {
      "cell_type": "markdown",
      "metadata": {
        "id": "D9I81Gln1cb1",
        "colab_type": "text"
      },
      "source": [
        "#### **Results**\n",
        "After manually sorting through the list of generated rules, the following rules most closely resembled the sort of relationship I was searching for:\n",
        "\n",
        "\\['Person Marital Status = M'\\] -> \\[Purchased Through the Mail = Y'\\] (confidence = 0.772, lift = 2.085, support = 0.258)\n",
        "\n",
        "\\['Computer Owner = Y'\\] -> \\['Dwelling Unit Size = 1', 'Internet/Online Subscriber = Y'\\] (confidence = 0.822, lift = 2.623, support = 0.313)\n",
        "\n",
        "Unfortunately, most rules were either redundant or did not provide much information. Many rules associated various BehaviorBank fields with other BehaviorBank fields. This is because of the likelihood that when someone fills in one BehaviorBank field they will also fill in another BehaviorBank field.\n",
        "\n",
        "#### **Conclusion**\n",
        "Attempting to explore a deeper relationship between various aspects of the customer’s life using Apriori’s algorithm has not revealed anything particularly meaningful.\n",
        "\n",
        "Where applicable, the best method of understanding the customer’s tastes can be found through survey questions, such as the BehaviorBank fields. Whether your customer likes to read, likes travelling, or likes sports is independent of family size, the size of their home, or whether they are married.\n",
        "\n",
        "Economic status and family size are the most obvious ways of dividing customers. Since the goal is to find deeper relationships between the fields, fields that classify income and family size were not included in the list of fields. However, other patterns were not picked up by the Apriori algorithm, suggesting that there aren't any deeper relationships. Or at least, if there are, they are much more subtle."
      ]
    },
    {
      "cell_type": "markdown",
      "metadata": {
        "id": "c7pmalYYhUlm",
        "colab_type": "text"
      },
      "source": [
        "### Linear Regression\n",
        "\n",
        "For this part I hand picked 4 pairs of columns from the dataset to compare via linear regression. Two kind of sort of worked while the other two didn't at all, as they used discrete variables.\n",
        "\n",
        "The first one (Vehicle Type vs. Vehicle Year) is an example of one that doesn't work with linear regression because vehicle type isn't continuous as there are only 4 types. From the graph you can see that this could work as a clustering problem, although it still wouldn't be that informative. \n",
        "\n",
        "The second one (Home Land Value vs Home Base Square Footage) is actually probably the best example of how it should work. You can kind of see that there is a positive correlation (as would be expected), but there are also a lot of outliers that could be skewing the data.\n",
        "\n",
        "The third one (Home Land Square Footage vs Estimated Current Home Value) sort of works, but with massive outliers crushing the correlation. Also, it seems that a good portion of data is going the wrong way (climbing the Y while low on the X) I think this is due to inconsistencies within the dataset. By looking at the dataset by hand it looks like some of the values of square footage are meant to be scaled by 1000 while others are meant to be scaled by 100.\n",
        "\n",
        "The fourth one (BehaviorBank: Cat Enthusiast vs Home Total Rooms) doesn't work at all because, again, one of the variables has only 2 (3?) options. I just thought it would be fun to see if there was any correlation to cat enthusiasts having more or less rooms in their house. This is again better suited as a clustering problem, but once again it wouldn't be very informative.\n",
        "\n",
        "This dataset is horrible and full of inconsistencies and zero correlations.\n",
        "\n",
        "The way the code works is by using the formatting functions to format and change categorical data to numerical. Then it runs through 4 hand-picked pairs (this can be modified if you'd like to run regression over any other columns). For each pair it extracts the arrays of each column without any nan or zero values. Then it runs the fit and plots."
      ]
    },
    {
      "cell_type": "code",
      "metadata": {
        "id": "bwWE3s5yhVHt",
        "colab_type": "code",
        "colab": {
          "base_uri": "https://localhost:8080/",
          "height": 1000
        },
        "outputId": "19892d13-58a3-47ab-a7e7-38e76a8aeb61"
      },
      "source": [
        "from task3_format_data import auto_csv_to_df, reformat_auto_data_vals, categorical_to_numerical\n",
        "from sklearn.linear_model import LinearRegression\n",
        "from sklearn.model_selection import train_test_split\n",
        "\n",
        "USED_AUTO_DATA_PATH = \"/content/UsedAutoRELEVATEfirst10000-noLatLong.csv\"\n",
        "\n",
        "\n",
        "def extract_names(xn, yn, dframe):\n",
        "    comp_df = dframe[[xn, yn]]\n",
        "    comp_df = comp_df.dropna()\n",
        "    comp_df = comp_df[(comp_df != 0).all(1)]\n",
        "\n",
        "    xarr = comp_df[xn].to_numpy()\n",
        "    yarr = comp_df[yn].to_numpy()\n",
        "\n",
        "    return xarr, yarr\n",
        "\n",
        "\n",
        "def run_and_plot_regression(x, y, x_name, y_name):\n",
        "    x_train, x_test, y_train, y_test = train_test_split(x, y, test_size=0.25, random_state=2)\n",
        "\n",
        "    reg = LinearRegression()\n",
        "    reg.fit(x_train.reshape(-1, 1), y_train)\n",
        "    y_pred = reg.predict(x_test.reshape(-1, 1))\n",
        "\n",
        "    plt.scatter(x_test, y_test, color='black')\n",
        "    plt.plot(x_test, y_pred, color='blue')\n",
        "    plt.xticks()\n",
        "    plt.yticks()\n",
        "    plt.xlabel(x_name)\n",
        "    plt.ylabel(y_name)\n",
        "    plt.grid()\n",
        "    plt.show()\n",
        "\n",
        "\n",
        "if __name__ == '__main__':\n",
        "    df = auto_csv_to_df(USED_AUTO_DATA_PATH)\n",
        "    df = reformat_auto_data_vals(df)\n",
        "    df = categorical_to_numerical(df)\n",
        "\n",
        "    x_names = ['Year 1', 'Home Base Square Footage', 'Estimated Current Home Value', 'Home Total Rooms']\n",
        "    y_names = ['Vehicle Type', 'Home Land Value', 'Home Land Square Footage', 'BehaviorBank: Cat Enthusiast']\n",
        "\n",
        "    for i in range(len(x_names)):\n",
        "        x, y = extract_names(x_names[i], y_names[i], df)\n",
        "\n",
        "        run_and_plot_regression(x, y, x_names[i], y_names[i])"
      ],
      "execution_count": null,
      "outputs": [
        {
          "output_type": "display_data",
          "data": {
            "image/png": "[encoded data removed]",
            "text/plain": [
              "<Figure size 432x288 with 1 Axes>"
            ]
          },
          "metadata": {
            "tags": []
          }
        },
        {
          "output_type": "display_data",
          "data": {
            "image/png": "[encoded data removed]",
            "text/plain": [
              "<Figure size 432x288 with 1 Axes>"
            ]
          },
          "metadata": {
            "tags": []
          }
        },
        {
          "output_type": "display_data",
          "data": {
            "image/png": "[encoded data removed]",
            "text/plain": [
              "<Figure size 432x288 with 1 Axes>"
            ]
          },
          "metadata": {
            "tags": []
          }
        },
        {
          "output_type": "display_data",
          "data": {
            "image/png": "[encoded data removed]",
            "text/plain": [
              "<Figure size 432x288 with 1 Axes>"
            ]
          },
          "metadata": {
            "tags": []
          }
        }
      ]
    },
    {
      "cell_type": "markdown",
      "metadata": {
        "id": "I47WXjXMgqFU",
        "colab_type": "text"
      },
      "source": [
        "## Bibliography\n",
        "\n",
        "1. https://www.theanalysisfactor.com/wide-and-long-data/\n",
        "2. https://scikit-learn.org/stable/modules/generated/sklearn.tree.DecisionTreeClassifier.html#sklearn.tree.DecisionTreeClassifier\n",
        "3. https://scikit-learn.org/stable/modules/naive_bayes.html\n",
        "4. https://scikit-learn.org/stable/modules/generated/sklearn.linear_model.PassiveAggressiveClassifier.html#sklearn.linear_model.PassiveAggressiveClassifier\n",
        "5. https://scikit-learn.org/stable/modules/svm.html\n",
        "6. https://scikit-learn.org/stable/modules/generated/sklearn.linear_model.LinearRegression.html"
      ]
    }
  ]
}